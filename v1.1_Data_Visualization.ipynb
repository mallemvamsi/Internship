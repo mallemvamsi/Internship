{
 "cells": [
  {
   "cell_type": "code",
   "execution_count": 67,
   "metadata": {},
   "outputs": [],
   "source": [
    "from bokeh.plotting import figure,output_file,show\n",
    "import pandas as pd\n",
    "from bokeh.models import ColumnDataSource,HoverTool\n",
    "df=pd.read_csv(r\"C:\\Users\\malle\\Downloads\\list of projects include time series_latest1.csv\",encoding='cp1252')\n",
    "pd.set_option('display.max_rows', None)\n",
    "source=ColumnDataSource(df)\n",
    "output_file(\"patch_1.html\")\n",
    "plot=figure(title='')\n",
    "plot.xaxis.axis_label ='Year of project release'\n",
    "plot.yaxis.axis_label = 'No of projects funded with respect to years from 2000'\n",
    "#adding the multiple graphs \n",
    "plot.circle(y='Noofprojects',x='year',size=10,fill_color=\"white\",alpha=0.5,source=source)\n",
    "plot.line(y='Noofprojects',x='year',line_width=1.2,color=\"blue\",source=source)\n",
    "hover=HoverTool()\n",
    "hover.tooltips=[(\"Organisation\",\"@Organization\"),(\"Name of the Software\",\"@NameofSoftware\")]\n",
    "plot.add_tools(hover)\n",
    "show(plot)\n"
   ]
  },
  {
   "cell_type": "code",
   "execution_count": null,
   "metadata": {},
   "outputs": [],
   "source": []
  },
  {
   "cell_type": "code",
   "execution_count": null,
   "metadata": {},
   "outputs": [],
   "source": []
  }
 ],
 "metadata": {
  "kernelspec": {
   "display_name": "Python 3",
   "language": "python",
   "name": "python3"
  },
  "language_info": {
   "codemirror_mode": {
    "name": "ipython",
    "version": 3
   },
   "file_extension": ".py",
   "mimetype": "text/x-python",
   "name": "python",
   "nbconvert_exporter": "python",
   "pygments_lexer": "ipython3",
   "version": "3.8.3"
  }
 },
 "nbformat": 4,
 "nbformat_minor": 4
}
